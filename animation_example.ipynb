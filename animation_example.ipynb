{
 "metadata": {
  "name": "animation_example"
 },
 "nbformat": 3,
 "nbformat_minor": 0,
 "worksheets": [
  {
   "cells": [
    {
     "cell_type": "code",
     "collapsed": false,
     "input": [
      "%pylab inline"
     ],
     "language": "python",
     "metadata": {},
     "outputs": []
    },
    {
     "cell_type": "code",
     "collapsed": false,
     "input": [
      "# This import available at https://github.com/jakevdp/JSAnimation\n",
      "from JSAnimation import IPython_display\n",
      "from matplotlib import animation"
     ],
     "language": "python",
     "metadata": {},
     "outputs": []
    },
    {
     "cell_type": "code",
     "collapsed": false,
     "input": [
      "# create a basic animation\n",
      "fig = plt.figure(figsize=(4, 3))\n",
      "ax = plt.axes(xlim=(0, 10), ylim=(-2, 2))\n",
      "line, = ax.plot([], [], lw=2)\n",
      "\n",
      "def init():\n",
      "    line.set_data([], [])\n",
      "    return line,\n",
      "\n",
      "def animate(i):\n",
      "    x = np.linspace(0, 10, 1000)\n",
      "    y = np.cos(i * 0.02 * np.pi) * np.sin(x - i * 0.02 * np.pi)\n",
      "    line.set_data(x, y)\n",
      "    return line,\n",
      "\n",
      "anim = animation.FuncAnimation(fig, animate, init_func=init,\n",
      "                               frames=100, interval=20, blit=True)\n",
      "\n",
      "# close figure so that an empty frame is not displayed\n",
      "plt.close(fig)"
     ],
     "language": "python",
     "metadata": {},
     "outputs": []
    },
    {
     "cell_type": "code",
     "collapsed": false,
     "input": [
      "# This should lead to a nice HTML representation\n",
      "# via the _repr_html_ method.  It spins for a while,\n",
      "# which means the result is being computed.  But it\n",
      "# shows nothing!\n",
      "anim"
     ],
     "language": "python",
     "metadata": {},
     "outputs": []
    },
    {
     "cell_type": "code",
     "collapsed": false,
     "input": [
      "# If we embed the result in an iframe, it works.\n",
      "# So why doesn't it work as raw HTML?\n",
      "from IPython.display import HTML\n",
      "\n",
      "html = anim._repr_html_()\n",
      "\n",
      "import tempfile\n",
      "with tempfile.NamedTemporaryFile() as f:\n",
      "    open(f.name, 'w').write(html)\n",
      "    data = open(f.name, 'rb').read().encode('base64')\n",
      "HTML('<iframe src=\"data:text/html;base64,{0}\" width=\"600\" height=\"400\"></iframe>'.format(data))"
     ],
     "language": "python",
     "metadata": {},
     "outputs": []
    }
   ],
   "metadata": {}
  }
 ]
}