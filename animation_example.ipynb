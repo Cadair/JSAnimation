{
 "metadata": {
  "name": "animation_example"
 },
 "nbformat": 3,
 "nbformat_minor": 0,
 "worksheets": [
  {
   "cells": [
    {
     "cell_type": "heading",
     "level": 1,
     "metadata": {},
     "source": [
      "IPython Javascript Animation Plugin"
     ]
    },
    {
     "cell_type": "markdown",
     "metadata": {},
     "source": [
      "This is an example of embedding an animation via javascript into an IPython notebook.\n",
      "It requires the ``JSAnimation`` import, available at http://github.com/jakevdp/JSAnimation\n",
      "\n",
      "The animation makes use of the HTML5 slider element, which is not yet supported by\n",
      "Firefox.  For a comprehensive list of browser support for this element, see\n",
      "http://caniuse.com/input-range"
     ]
    },
    {
     "cell_type": "code",
     "collapsed": false,
     "input": [
      "%pylab inline"
     ],
     "language": "python",
     "metadata": {},
     "outputs": []
    },
    {
     "cell_type": "code",
     "collapsed": false,
     "input": [
      "# JSAnimation import available at https://github.com/jakevdp/JSAnimation\n",
      "from JSAnimation import IPython_display\n",
      "from matplotlib import animation\n",
      "\n",
      "# create a simple animation\n",
      "fig = plt.figure()\n",
      "ax = plt.axes(xlim=(0, 10), ylim=(-2, 2))\n",
      "line, = ax.plot([], [], lw=2)\n",
      "\n",
      "x = np.linspace(0, 10, 1000)\n",
      "\n",
      "def init():\n",
      "    line.set_data([], [])\n",
      "    return line,\n",
      "\n",
      "def animate(i):\n",
      "    line.set_data(x, np.cos(i * 0.02 * np.pi) * np.sin(x - i * 0.02 * np.pi))\n",
      "    return line,\n",
      "\n",
      "animation.FuncAnimation(fig, animate, init_func=init,\n",
      "                        frames=100, interval=20, blit=True)"
     ],
     "language": "python",
     "metadata": {},
     "outputs": []
    }
   ],
   "metadata": {}
  }
 ]
}